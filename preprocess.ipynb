{
 "cells": [
  {
   "cell_type": "code",
   "execution_count": null,
   "outputs": [],
   "source": [],
   "metadata": {
    "collapsed": false
   }
  },
  {
   "cell_type": "markdown",
   "source": [],
   "metadata": {
    "collapsed": false
   }
  },
  {
   "cell_type": "code",
   "execution_count": null,
   "outputs": [],
   "source": [],
   "metadata": {
    "collapsed": false
   }
  },
  {
   "cell_type": "markdown",
   "source": [],
   "metadata": {
    "collapsed": false
   }
  },
  {
   "cell_type": "code",
   "execution_count": null,
   "outputs": [],
   "source": [],
   "metadata": {
    "collapsed": false
   }
  },
  {
   "cell_type": "code",
   "execution_count": null,
   "outputs": [],
   "source": [],
   "metadata": {
    "collapsed": false
   }
  },
  {
   "cell_type": "code",
   "execution_count": null,
   "outputs": [],
   "source": [],
   "metadata": {
    "collapsed": false
   }
  },
  {
   "cell_type": "code",
   "execution_count": null,
   "outputs": [],
   "source": [],
   "metadata": {
    "collapsed": false
   }
  },
  {
   "cell_type": "markdown",
   "source": [],
   "metadata": {
    "collapsed": false
   }
  },
  {
   "cell_type": "markdown",
   "source": [],
   "metadata": {
    "collapsed": false
   }
  },
  {
   "cell_type": "code",
   "execution_count": null,
   "outputs": [],
   "source": [],
   "metadata": {
    "collapsed": false
   }
  },
  {
   "cell_type": "markdown",
   "source": [
    "import pandas as pd\n",
    "\n",
    "df_all = pd.read_pickle('data/TextData/all_df_final.pkl')\n",
    "df_test = pd.read_pickle('data/TextData/test_df_final.pkl')\n"
   ],
   "metadata": {
    "collapsed": false
   }
  },
  {
   "cell_type": "code",
   "execution_count": 249,
   "outputs": [],
   "source": [
    "class nptr:\n",
    "    def __init__(self, c):\n",
    "        self.data = c\n",
    "        self.left = None\n",
    "        self.right = None\n",
    "\n",
    "\n",
    "def display(node):\n",
    "    if (node is None):\n",
    "        print(\"\")\n",
    "        return\n",
    "    display(node.left)\n",
    "    print(node.data, end=\" \")\n",
    "    display(node.right)\n",
    "\n",
    "\n",
    "def newNode(c):\n",
    "    n = nptr(c)\n",
    "    return n\n",
    "\n",
    "\n",
    "def isDecimal(value):\n",
    "    try:\n",
    "        float(value)\n",
    "        return True\n",
    "    except ValueError:\n",
    "        return False\n",
    "\n",
    "\n",
    "def build(s):\n",
    "    stN = []\n",
    "    stC = []\n",
    "\n",
    "    p = [0] * 123\n",
    "    p[ord('+')] = p[ord('-')] = 1\n",
    "    p[ord('/')] = p[ord('*')] = 2\n",
    "    p[ord('^')] = 3\n",
    "    p[ord(')')] = 0\n",
    "\n",
    "    for i in s.split():\n",
    "        # print(i)\n",
    "        if i == '(':\n",
    "            stC.append(i)\n",
    "        # Push the operands in node stack\n",
    "        elif (i.isalpha() or i.isnumeric() or i.isdecimal() or isDecimal(i)):\n",
    "            t = newNode(i)\n",
    "            stN.append(t)\n",
    "\n",
    "        elif (p[ord(i)] > 0):\n",
    "            while (len(stC) != 0 and stC[-1] != '(' and ((i != '^' and p[ord(stC[-1])] >= p[ord(i)])\n",
    "                                                         or (i == '^' and\n",
    "                                                             p[ord(stC[-1])] > p[ord(i)]))):\n",
    "                t = newNode(stC[-1])\n",
    "                stC.pop()\n",
    "                t1 = stN[-1]\n",
    "                stN.pop()\n",
    "                t2 = stN[-1]\n",
    "                stN.pop()\n",
    "                t.left = t2\n",
    "                t.right = t1\n",
    "\n",
    "                # Push the node to the node stack\n",
    "                stN.append(t)\n",
    "\n",
    "            # Push s[i] to char stack\n",
    "            stC.append(i)\n",
    "\n",
    "        elif (i == ')'):\n",
    "            while (len(stC) != 0 and stC[-1] != '('):\n",
    "                t = newNode(stC[-1])\n",
    "                stC.pop()\n",
    "                t1 = stN[-1]\n",
    "                stN.pop()\n",
    "                # if(len(stN)!=0):\n",
    "                t2 = stN[-1]\n",
    "                stN.pop()\n",
    "                t.left = t2\n",
    "                t.right = t1\n",
    "                stN.append(t)\n",
    "            stC.pop()\n",
    "    t = stN[-1]\n",
    "    return t"
   ],
   "metadata": {
    "collapsed": false
   }
  },
  {
   "cell_type": "code",
   "execution_count": 243,
   "outputs": [],
   "source": [
    "def eq_parser(eq):\n",
    "    try:\n",
    "        eq = eq.split('=')\n",
    "        eq_lhs  = '( '+eq[0]+' )'\n",
    "        eq_rhs  = '( '+eq[1]+' )'\n",
    "        # print(eq_lhs, eq_rhs)\n",
    "        return [build(eq_lhs), build(eq_rhs)]\n",
    "    except:\n",
    "        print(eq)\n",
    "        return []"
   ],
   "metadata": {
    "collapsed": false
   }
  },
  {
   "cell_type": "code",
   "execution_count": 204,
   "outputs": [
    {
     "data": {
      "text/plain": "[<__main__.nptr at 0x7f9435147550>, <__main__.nptr at 0x7f9435147eb0>]"
     },
     "execution_count": 204,
     "metadata": {},
     "output_type": "execute_result"
    }
   ],
   "source": [
    "eq_parser(df['eqn'][0])"
   ],
   "metadata": {
    "collapsed": false
   }
  },
  {
   "cell_type": "code",
   "execution_count": 205,
   "outputs": [
    {
     "name": "stdout",
     "output_type": "stream",
     "text": [
      "['2 * x ', ' ( - 1 )']\n",
      "['x ', ' ( ( ( - 2 ) * ( - 4 ) ) * 3 ) * ( - 1 )']\n",
      "['( 2 * x ) - ( - 1 ) ', ' ( - 3 )']\n",
      "['3 - ( 2 * x ) ', ' ( - 1 ) + x']\n",
      "['( 3.0 * x ) + ( 2 + x ) ', ' ( - 1 ) - ( 2.0 * x )']\n",
      "['( 2.0 * x ) + ( x - 2 ) ', ' ( - 1 ) - x']\n",
      "['( 2.0 * x ) + ( x - 2 ) ', ' ( - 1 ) - x']\n",
      "['( 2.0 * x ) + ( x - 2 ) ', ' ( - 1 ) - x']\n"
     ]
    }
   ],
   "source": [
    "tree = df['eqn'].apply(eq_parser)"
   ],
   "metadata": {
    "collapsed": false
   }
  },
  {
   "cell_type": "code",
   "execution_count": 206,
   "outputs": [
    {
     "data": {
      "text/plain": "2877"
     },
     "execution_count": 206,
     "metadata": {},
     "output_type": "execute_result"
    }
   ],
   "source": [
    "len(tree)"
   ],
   "metadata": {
    "collapsed": false
   }
  },
  {
   "cell_type": "code",
   "execution_count": 207,
   "outputs": [],
   "source": [
    "df_all['tree'] = tree"
   ],
   "metadata": {
    "collapsed": false
   }
  },
  {
   "cell_type": "code",
   "execution_count": 208,
   "outputs": [],
   "source": [
    "def if_variable(str):\n",
    "    return str.isalpha()\n",
    "\n",
    "def is_constant(str):\n",
    "    return str.isnumeric() or str.isdecimal() or isDecimal(str)\n"
   ],
   "metadata": {
    "collapsed": false
   }
  },
  {
   "cell_type": "code",
   "execution_count": 220,
   "outputs": [],
   "source": [
    "def compare_tree( root1, root2):\n",
    "    if root1 is None and root2 is None:\n",
    "        return True\n",
    "\n",
    "    if root1 is None or root2 is None:\n",
    "        return False\n",
    "    # print(root1.data, root2.data)\n",
    "\n",
    "    if if_variable(root1.data) and if_variable(root2.data):\n",
    "        return compare_tree(root1.left, root2.left) and compare_tree(root1.right, root2.right)\n",
    "\n",
    "    if is_constant(root1.data) and is_constant(root2.data):\n",
    "        return compare_tree(root1.left, root2.left) and compare_tree(root1.right, root2.right)\n",
    "\n",
    "    if(root1.data == root2.data ):\n",
    "        return compare_tree(root1.left, root2.left) and compare_tree(root1.right, root2.right)\n",
    "\n",
    "    return False"
   ],
   "metadata": {
    "collapsed": false
   }
  },
  {
   "cell_type": "code",
   "execution_count": 209,
   "outputs": [],
   "source": [],
   "metadata": {
    "collapsed": false
   }
  },
  {
   "cell_type": "code",
   "execution_count": 221,
   "outputs": [
    {
     "data": {
      "text/plain": "False"
     },
     "execution_count": 221,
     "metadata": {},
     "output_type": "execute_result"
    }
   ],
   "source": [
    "compare_tree(tree[0][0], tree[0][1])"
   ],
   "metadata": {
    "collapsed": false
   }
  },
  {
   "cell_type": "code",
   "execution_count": 222,
   "outputs": [
    {
     "name": "stdout",
     "output_type": "stream",
     "text": [
      "0\n",
      "100\n",
      "200\n",
      "300\n",
      "400\n",
      "500\n",
      "600\n",
      "700\n",
      "800\n",
      "900\n",
      "1000\n",
      "1100\n",
      "1200\n",
      "1300\n",
      "1400\n",
      "1500\n",
      "1600\n",
      "1700\n",
      "1800\n",
      "1900\n",
      "2000\n",
      "2100\n",
      "2200\n",
      "2300\n",
      "2400\n",
      "2500\n",
      "2600\n",
      "2700\n",
      "2800\n"
     ]
    }
   ],
   "source": [
    "lst = []\n",
    "for i in range(len(tree)):\n",
    "    if len(tree[i]) == 0:\n",
    "        continue\n",
    "    if i%100 == 0 :\n",
    "        print(i)\n",
    "    tmp = []\n",
    "    for j in range(len(tree)):\n",
    "        if len(tree[j]) == 0:\n",
    "            continue\n",
    "        if compare_tree(tree[i][0], tree[j][0]) and compare_tree(tree[i][1], tree[j][1]):\n",
    "            tmp.append(j)\n",
    "    lst.append(tmp)"
   ],
   "metadata": {
    "collapsed": false
   }
  },
  {
   "cell_type": "code",
   "execution_count": 250,
   "outputs": [],
   "source": [
    "lst_all = df_all['common']\n",
    "lst_test = df_test['common']"
   ],
   "metadata": {
    "collapsed": false
   }
  },
  {
   "cell_type": "code",
   "execution_count": 252,
   "outputs": [
    {
     "name": "stdout",
     "output_type": "stream",
     "text": [
      "[0, 1, 462, 1877, 2377, 2627]\n",
      "[0]\n"
     ]
    }
   ],
   "source": [
    "print(lst_all[0])\n",
    "print(lst_test[0])"
   ],
   "metadata": {
    "collapsed": false
   }
  },
  {
   "cell_type": "code",
   "execution_count": 234,
   "outputs": [
    {
     "data": {
      "text/plain": "'x = ( 8 * 0.01 ) * 2'"
     },
     "execution_count": 234,
     "metadata": {},
     "output_type": "execute_result"
    }
   ],
   "source": [
    "df['eqn'][1]"
   ],
   "metadata": {
    "collapsed": false
   }
  },
  {
   "cell_type": "code",
   "execution_count": 213,
   "outputs": [
    {
     "name": "stdout",
     "output_type": "stream",
     "text": [
      "x *\n"
     ]
    },
    {
     "data": {
      "text/plain": "False"
     },
     "execution_count": 213,
     "metadata": {},
     "output_type": "execute_result"
    }
   ],
   "source": [
    "compare_tree(tree[0][0], tree[4][0])"
   ],
   "metadata": {
    "collapsed": false
   }
  },
  {
   "cell_type": "code",
   "execution_count": 267,
   "outputs": [
    {
     "name": "stdout",
     "output_type": "stream",
     "text": [
      "as alyssa was searching through her couch cushions , she found 1 quarters , and 2 pennies in the couch . how much money in total does alyssa have ? ( 1 * 0.25 ) + ( 1 * 0.25 ) = x\n",
      "*****\n",
      "on wednesday , joan spent 1 half - dollars playing pinball . the next day , she spent 2 half - dollars on pinball . what was the total amount joan spent playing pinball ? ( 1 * 0.5 ) + ( 1 * 0.5 ) = x\n",
      "*****\n"
     ]
    }
   ],
   "source": [
    "for i in lst_all[1111]:\n",
    "    print(df_all['ques'][i],df_all['eqn'][i], end='\\n*****\\n')"
   ],
   "metadata": {
    "collapsed": false
   }
  },
  {
   "cell_type": "code",
   "execution_count": 264,
   "outputs": [
    {
     "name": "stdout",
     "output_type": "stream",
     "text": [
      "a bee has 2 legs . how many legs do 3 bees have ? x = ( 2 / 1 )\n",
      "*****\n",
      "christopher strolled 2 miles at 1 miles per hour . how long did christopher stroll ? x = ( 2 / 1 )\n",
      "*****\n",
      "if benjamin strolled 2 miles at 1 miles per hour , how long was benjamin travelling ? x = ( 2 / 1 )\n",
      "*****\n",
      "if lawrence walked 2 kilometers at 1 kilometers per hour , how long was lawrence walking ? x = ( 2 / 1 )\n",
      "*****\n",
      "mr . guzman bought 1 doughnuts packed equally into 2 boxes . how many doughnuts were in each box ? x = ( 1 / 2 )\n",
      "*****\n",
      "jack is inviting 1 friends to a party . he has 1 cookies . how many cookies will each friend get ? x = ( 2 / 1 )\n",
      "*****\n",
      "virginia has 2 eggs and 1 skittles . if she shares the eggs among 3 friends , how many eggs does each friend get ? x = ( 3 / 2 )\n",
      "*****\n",
      "there are 1 bottle caps in beverly's bottle cap collection . if the bottle caps are organized into 2 groups , how big is each group ? x = ( 1 / 2 )\n",
      "*****\n",
      "there are 1 students in the class and 2 tickets . if the tickets are divided equally among the students , how many does each student get ? x = ( 1 / 2 )\n",
      "*****\n",
      "billy was putting his spare change into piles . he had 1 piles of quarters and 2 piles of dimes . if each pile had 3 coins in it , how many coins did he have total ? x = ( 2 / 1 )\n",
      "*****\n",
      "marilyn has 1 bananas that must be put away in boxes . daniel comes to help and brings 3 cookies to share with marilyn . if there are 2 boxes , how many bananas must go in each box ? x = ( 2 / 3 )\n",
      "*****\n"
     ]
    }
   ],
   "source": [
    "for i in lst_test[1]:\n",
    "    print(df_test['ques'][i],df_test['eqn'][i], end='\\n*****\\n')"
   ],
   "metadata": {
    "collapsed": false
   }
  },
  {
   "cell_type": "code",
   "execution_count": 260,
   "outputs": [
    {
     "name": "stdout",
     "output_type": "stream",
     "text": [
      "\n",
      "2 \n"
     ]
    }
   ],
   "source": [
    "display(build(df_all['eqn'][0].split('=')[1]))"
   ],
   "metadata": {
    "collapsed": false
   }
  },
  {
   "cell_type": "code",
   "execution_count": 263,
   "outputs": [
    {
     "data": {
      "text/plain": "0    [<__main__.nptr object at 0x7f9434e8f970>, <__main__.nptr object at 0x7f94337e0f40>]\n1    [<__main__.nptr object at 0x7f94337e0400>, <__main__.nptr object at 0x7f94337e0910>]\n2    [<__main__.nptr object at 0x7f94337b7df0>, <__main__.nptr object at 0x7f94337b7fd0>]\n3    [<__main__.nptr object at 0x7f94337192b0>, <__main__.nptr object at 0x7f94337191f0>]\n4    [<__main__.nptr object at 0x7f9433719b50>, <__main__.nptr object at 0x7f9433719f70>]\nName: tree, dtype: object"
     },
     "execution_count": 263,
     "metadata": {},
     "output_type": "execute_result"
    }
   ],
   "source": [],
   "metadata": {
    "collapsed": false
   }
  },
  {
   "cell_type": "code",
   "execution_count": null,
   "outputs": [],
   "source": [],
   "metadata": {
    "collapsed": false
   }
  }
 ],
 "metadata": {
  "kernelspec": {
   "display_name": "Python 3",
   "language": "python",
   "name": "python3"
  },
  "language_info": {
   "codemirror_mode": {
    "name": "ipython",
    "version": 2
   },
   "file_extension": ".py",
   "mimetype": "text/x-python",
   "name": "python",
   "nbconvert_exporter": "python",
   "pygments_lexer": "ipython2",
   "version": "2.7.6"
  }
 },
 "nbformat": 4,
 "nbformat_minor": 0
}
