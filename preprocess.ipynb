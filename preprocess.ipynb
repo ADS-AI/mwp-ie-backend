{
 "cells": [
  {
   "cell_type": "code",
   "execution_count": 1,
   "metadata": {
    "collapsed": true
   },
   "outputs": [],
   "source": [
    "import pandas as pd\n",
    "from sys import path\n",
    "path.append(r'../../src')\n",
    "source_data_dir = \"data/TextData/\""
   ]
  },
  {
   "cell_type": "code",
   "execution_count": 2,
   "outputs": [],
   "source": [
    "file = pd.read_json('myresponse.json', lines=True)"
   ],
   "metadata": {
    "collapsed": false
   }
  },
  {
   "cell_type": "code",
   "execution_count": 3,
   "outputs": [
    {
     "data": {
      "text/plain": "                                            question  \\\n0  Two friends plan to walk along a 43-km trail, ...   \n1  In the coordinate plane, points (x, 1) and (5,...   \n2  For all numbers p and q, the operation @ is de...   \n3  Carl is facing very difficult financial times ...   \n4  The speed at which a man can row a boat in sti...   \n\n                                             options  \\\n0                 [A)21, B)21.5, C)22, D)22.5, E)23]   \n1  [A)4 and 1, B)1 and 5, C)5 and 1, D)3 and 5, E...   \n2  [A)II, B)I and II, C)I and III, D)II and III, ...   \n3     [A)$1600, B)$2000, C)$2150, D)$2500, E)$12000]   \n4  [A)18 seconds, B)27 seconds, C)26 seconds, D)1...   \n\n                                           rationale correct  \n0  If Q complete x kilometers, then P completes 1...       E  \n1  Line k passes through the origin and has slope...       C  \n2  p@q = p^2 - pq=p(p-q).... so p@q will be zero ...       B  \n3  Usually, you are given the annual rate of inte...       A  \n4  Speed of the boat downstream = 25 +11\\n= 36 km...       E  ",
      "text/html": "<div>\n<style scoped>\n    .dataframe tbody tr th:only-of-type {\n        vertical-align: middle;\n    }\n\n    .dataframe tbody tr th {\n        vertical-align: top;\n    }\n\n    .dataframe thead th {\n        text-align: right;\n    }\n</style>\n<table border=\"1\" class=\"dataframe\">\n  <thead>\n    <tr style=\"text-align: right;\">\n      <th></th>\n      <th>question</th>\n      <th>options</th>\n      <th>rationale</th>\n      <th>correct</th>\n    </tr>\n  </thead>\n  <tbody>\n    <tr>\n      <th>0</th>\n      <td>Two friends plan to walk along a 43-km trail, ...</td>\n      <td>[A)21, B)21.5, C)22, D)22.5, E)23]</td>\n      <td>If Q complete x kilometers, then P completes 1...</td>\n      <td>E</td>\n    </tr>\n    <tr>\n      <th>1</th>\n      <td>In the coordinate plane, points (x, 1) and (5,...</td>\n      <td>[A)4 and 1, B)1 and 5, C)5 and 1, D)3 and 5, E...</td>\n      <td>Line k passes through the origin and has slope...</td>\n      <td>C</td>\n    </tr>\n    <tr>\n      <th>2</th>\n      <td>For all numbers p and q, the operation @ is de...</td>\n      <td>[A)II, B)I and II, C)I and III, D)II and III, ...</td>\n      <td>p@q = p^2 - pq=p(p-q).... so p@q will be zero ...</td>\n      <td>B</td>\n    </tr>\n    <tr>\n      <th>3</th>\n      <td>Carl is facing very difficult financial times ...</td>\n      <td>[A)$1600, B)$2000, C)$2150, D)$2500, E)$12000]</td>\n      <td>Usually, you are given the annual rate of inte...</td>\n      <td>A</td>\n    </tr>\n    <tr>\n      <th>4</th>\n      <td>The speed at which a man can row a boat in sti...</td>\n      <td>[A)18 seconds, B)27 seconds, C)26 seconds, D)1...</td>\n      <td>Speed of the boat downstream = 25 +11\\n= 36 km...</td>\n      <td>E</td>\n    </tr>\n  </tbody>\n</table>\n</div>"
     },
     "execution_count": 3,
     "metadata": {},
     "output_type": "execute_result"
    }
   ],
   "source": [
    "file.head()"
   ],
   "metadata": {
    "collapsed": false
   }
  },
  {
   "cell_type": "code",
   "execution_count": 4,
   "outputs": [
    {
     "name": "stdout",
     "output_type": "stream",
     "text": [
      "Speed of the boat downstream = 25 +11\n",
      "= 36 kmph\n",
      "= 36 * 5/18 = 10 m/s\n",
      "Hence time taken to cover 80 m = 80/10\n",
      "= 8 seconds.\n",
      "Answer:E\n"
     ]
    }
   ],
   "source": [
    "print(file['rationale'][4])"
   ],
   "metadata": {
    "collapsed": false
   }
  },
  {
   "cell_type": "code",
   "execution_count": 6,
   "outputs": [
    {
     "data": {
      "text/plain": "1000"
     },
     "execution_count": 6,
     "metadata": {},
     "output_type": "execute_result"
    }
   ],
   "source": [
    "len(file[:1000])"
   ],
   "metadata": {
    "collapsed": false
   }
  },
  {
   "cell_type": "code",
   "execution_count": 12,
   "outputs": [],
   "source": [
    "with open(source_data_dir+\"all_aqua.txt\", \"w\", encoding=\"utf-8\") as f:\n",
    "    x = 1000\n",
    "    for i in range(x):\n",
    "    # for q in file[:1000]['question']:\n",
    "        q = file['question'][i]\n",
    "        if len(q)>400:\n",
    "            x+=1\n",
    "            continue\n",
    "        f.writelines(q.splitlines()[0]+'\\n')\n",
    "f.close()"
   ],
   "metadata": {
    "collapsed": false
   }
  },
  {
   "cell_type": "code",
   "execution_count": 8,
   "outputs": [
    {
     "name": "stdout",
     "output_type": "stream",
     "text": [
      "Two friends plan to walk along a 43-km trail, starting at opposite ends of the trail at the same time. If Friend P's rate is 15% faster than Friend Q's, how many kilometers will Friend P have walked when they pass each other?\n"
     ]
    }
   ],
   "source": [
    "print(file['question'][0].splitlines()[0])"
   ],
   "metadata": {
    "collapsed": false
   }
  },
  {
   "cell_type": "code",
   "execution_count": 11,
   "outputs": [
    {
     "data": {
      "text/plain": "652"
     },
     "execution_count": 11,
     "metadata": {},
     "output_type": "execute_result"
    }
   ],
   "source": [
    "len(file['question'][138])"
   ],
   "metadata": {
    "collapsed": false
   }
  },
  {
   "cell_type": "code",
   "execution_count": 14,
   "outputs": [
    {
     "data": {
      "text/plain": "\"Two friends plan to walk along a 43-km trail, starting at opposite ends of the trail at the same time. If Friend P's rate is 15% faster than Friend Q's, how many kilometers will Friend P have walked when they pass each other?\""
     },
     "execution_count": 14,
     "metadata": {},
     "output_type": "execute_result"
    }
   ],
   "source": [
    "file['question'][0]"
   ],
   "metadata": {
    "collapsed": false
   }
  },
  {
   "cell_type": "code",
   "execution_count": null,
   "outputs": [],
   "source": [],
   "metadata": {
    "collapsed": false
   }
  }
 ],
 "metadata": {
  "kernelspec": {
   "display_name": "Python 3",
   "language": "python",
   "name": "python3"
  },
  "language_info": {
   "codemirror_mode": {
    "name": "ipython",
    "version": 2
   },
   "file_extension": ".py",
   "mimetype": "text/x-python",
   "name": "python",
   "nbconvert_exporter": "python",
   "pygments_lexer": "ipython2",
   "version": "2.7.6"
  }
 },
 "nbformat": 4,
 "nbformat_minor": 0
}
